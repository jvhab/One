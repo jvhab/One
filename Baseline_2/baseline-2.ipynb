{
 "cells": [
  {
   "cell_type": "code",
   "execution_count": 1,
   "id": "898881a5",
   "metadata": {
    "execution": {
     "iopub.execute_input": "2021-10-10T16:44:08.126605Z",
     "iopub.status.busy": "2021-10-10T16:44:08.125375Z",
     "iopub.status.idle": "2021-10-10T16:44:08.128453Z",
     "shell.execute_reply": "2021-10-10T16:44:08.127803Z",
     "shell.execute_reply.started": "2021-10-10T15:54:46.503673Z"
    },
    "papermill": {
     "duration": 0.025046,
     "end_time": "2021-10-10T16:44:08.128623",
     "exception": false,
     "start_time": "2021-10-10T16:44:08.103577",
     "status": "completed"
    },
    "tags": []
   },
   "outputs": [],
   "source": [
    "# Проверка схожести данных TRAIN and TEST\n",
    "# https://habr.com/ru/post/422185/"
   ]
  },
  {
   "cell_type": "code",
   "execution_count": 2,
   "id": "28bfcb08",
   "metadata": {
    "_cell_guid": "b1076dfc-b9ad-4769-8c92-a6c4dae69d19",
    "_uuid": "8f2839f25d086af736a60e9eeb907d3b93b6e0e5",
    "execution": {
     "iopub.execute_input": "2021-10-10T16:44:08.170015Z",
     "iopub.status.busy": "2021-10-10T16:44:08.168595Z",
     "iopub.status.idle": "2021-10-10T16:44:09.334250Z",
     "shell.execute_reply": "2021-10-10T16:44:09.333278Z",
     "shell.execute_reply.started": "2021-10-10T15:54:46.510449Z"
    },
    "papermill": {
     "duration": 1.189677,
     "end_time": "2021-10-10T16:44:09.334392",
     "exception": false,
     "start_time": "2021-10-10T16:44:08.144715",
     "status": "completed"
    },
    "tags": []
   },
   "outputs": [
    {
     "name": "stdout",
     "output_type": "stream",
     "text": [
      "/kaggle/input/tabular-playground-series-oct-2021/sample_submission.csv\n",
      "/kaggle/input/tabular-playground-series-oct-2021/train.csv\n",
      "/kaggle/input/tabular-playground-series-oct-2021/test.csv\n"
     ]
    }
   ],
   "source": [
    "import numpy as np\n",
    "import pandas as pd\n",
    "import os\n",
    "for dirname, _, filenames in os.walk('/kaggle/input'):\n",
    "    for filename in filenames:\n",
    "        print(os.path.join(dirname, filename))\n",
    "from sklearn.metrics import auc, roc_auc_score"
   ]
  },
  {
   "cell_type": "code",
   "execution_count": 3,
   "id": "21e927a6",
   "metadata": {
    "execution": {
     "iopub.execute_input": "2021-10-10T16:44:09.376916Z",
     "iopub.status.busy": "2021-10-10T16:44:09.376156Z",
     "iopub.status.idle": "2021-10-10T16:45:39.368529Z",
     "shell.execute_reply": "2021-10-10T16:45:39.368930Z",
     "shell.execute_reply.started": "2021-10-10T15:54:46.529726Z"
    },
    "papermill": {
     "duration": 90.0183,
     "end_time": "2021-10-10T16:45:39.369095",
     "exception": false,
     "start_time": "2021-10-10T16:44:09.350795",
     "status": "completed"
    },
    "tags": []
   },
   "outputs": [
    {
     "data": {
      "text/html": [
       "<style type='text/css'>\n",
       ".datatable table.frame { margin-bottom: 0; }\n",
       ".datatable table.frame thead { border-bottom: none; }\n",
       ".datatable table.frame tr.coltypes td {  color: #FFFFFF;  line-height: 6px;  padding: 0 0.5em;}\n",
       ".datatable .bool    { background: #DDDD99; }\n",
       ".datatable .object  { background: #565656; }\n",
       ".datatable .int     { background: #5D9E5D; }\n",
       ".datatable .float   { background: #4040CC; }\n",
       ".datatable .str     { background: #CC4040; }\n",
       ".datatable .time    { background: #40CC40; }\n",
       ".datatable .row_index {  background: var(--jp-border-color3);  border-right: 1px solid var(--jp-border-color0);  color: var(--jp-ui-font-color3);  font-size: 9px;}\n",
       ".datatable .frame tbody td { text-align: left; }\n",
       ".datatable .frame tr.coltypes .row_index {  background: var(--jp-border-color0);}\n",
       ".datatable th:nth-child(2) { padding-left: 12px; }\n",
       ".datatable .hellipsis {  color: var(--jp-cell-editor-border-color);}\n",
       ".datatable .vellipsis {  background: var(--jp-layout-color0);  color: var(--jp-cell-editor-border-color);}\n",
       ".datatable .na {  color: var(--jp-cell-editor-border-color);  font-size: 80%;}\n",
       ".datatable .sp {  opacity: 0.25;}\n",
       ".datatable .footer { font-size: 9px; }\n",
       ".datatable .frame_dimensions {  background: var(--jp-border-color3);  border-top: 1px solid var(--jp-border-color0);  color: var(--jp-ui-font-color3);  display: inline-block;  opacity: 0.6;  padding: 1px 10px 1px 5px;}\n",
       "</style>\n"
      ],
      "text/plain": [
       "<IPython.core.display.HTML object>"
      ]
     },
     "metadata": {},
     "output_type": "display_data"
    }
   ],
   "source": [
    "import datatable as dt\n",
    "def data_load() -> pd.DataFrame:\n",
    "    direсtory_kagggle = \"/kaggle/input/tabular-playground-series-oct-2021/\"\n",
    "    train_data = \"train.csv\"\n",
    "    test_data = \"test.csv\"\n",
    "    sub_data = \"sample_submission.csv\"\n",
    "    train = pd.read_csv(direсtory_kagggle + train_data)\n",
    "    test = pd.read_csv(direсtory_kagggle + test_data)\n",
    "    #train = dt.fread(direсtory_kagggle + train_data).to_pandas()\n",
    "    #test = dt.fread(direсtory_kagggle + test_data).to_pandas()\n",
    "    sub = pd.read_csv(direсtory_kagggle + sub_data)\n",
    "    \n",
    "    return train, test, sub\n",
    "\n",
    "train, test, sub = data_load()"
   ]
  },
  {
   "cell_type": "code",
   "execution_count": 4,
   "id": "c7acc5ca",
   "metadata": {
    "execution": {
     "iopub.execute_input": "2021-10-10T16:45:39.411273Z",
     "iopub.status.busy": "2021-10-10T16:45:39.394988Z",
     "iopub.status.idle": "2021-10-10T16:46:41.842151Z",
     "shell.execute_reply": "2021-10-10T16:46:41.841700Z",
     "shell.execute_reply.started": "2021-10-10T15:55:57.120518Z"
    },
    "papermill": {
     "duration": 62.461582,
     "end_time": "2021-10-10T16:46:41.842316",
     "exception": false,
     "start_time": "2021-10-10T16:45:39.380734",
     "status": "completed"
    },
    "tags": []
   },
   "outputs": [
    {
     "name": "stdout",
     "output_type": "stream",
     "text": [
      "TRAIN\n",
      "Суммарно памяти до: 2189.6363525390625\n",
      "Суммарно памяти после:  505.447509765625\n",
      "TEST\n",
      "Суммарно памяти до: 1091.0035400390625\n",
      "Суммарно памяти после:  252.24697875976562\n"
     ]
    }
   ],
   "source": [
    "def reduce_memory_use(df: pd.DataFrame, verbose: bool=True) -> pd.DataFrame:\n",
    "    num_col = [\"int8\", \"int16\", \"int32\", \"int64\", \"float16\", \"float32\", \"float64\"]\n",
    "    start_memory_usage = df.memory_usage(deep=True).sum() / 1024 ** 2\n",
    "    for col in df.columns:\n",
    "        col_type = df[col].dtypes\n",
    "        if col_type in num_col:\n",
    "            col_min = df[col].min()\n",
    "            col_max = df[col].max()\n",
    "            if str(col_type)[:3] == \"int\":\n",
    "                if col_min > np.iinfo(np.int8).min and col_max < np.iinfo(np.int8).max:\n",
    "                    df[col] = df[col].astype(np.int8)\n",
    "                elif col_min > np.iinfo(np.int16).min and col_max < np.iinfo(np.int16).max:\n",
    "                    df[col] = df[col].astype(np.int16)\n",
    "                elif col_min > np.iinfo(np.int32).min and col_max < np.iinfo(np.int32).max:\n",
    "                    df[col] = df[col].astype(np.int32)\n",
    "                elif col_min > np.iinfo(np.int64).min and col_max < np.iinfo(np.int64).max:\n",
    "                    df[col] = df[col].astype(np.int64)\n",
    "            elif str(col_type)[:5] == \"float\":\n",
    "                if col_min > np.finfo(np.float16).min and col_max < np.finfo(np.float16).max:\n",
    "                    df[col] = df[col].astype(np.float16)\n",
    "                elif col_min > np.finfo(np.float32).min and col_max < np.finfo(np.float32).max:\n",
    "                    df[col] = df[col].astype(np.float32)\n",
    "                elif col_min > np.finfo(np.float64).min and col_max < np.finfo(np.float64).max:\n",
    "                    df[col] = df[col].astype(np.float64)\n",
    "    end_memory_usage = df.memory_usage(deep=True).sum() / 1024 ** 2\n",
    "    if verbose:\n",
    "        print(f\"Суммарно памяти до: {start_memory_usage}\", end=\"\\n\")\n",
    "        print(\"Суммарно памяти после: \", end_memory_usage)\n",
    "        \n",
    "        return df\n",
    "    \n",
    "print(\"TRAIN\", end=\"\\n\")\n",
    "train = reduce_memory_use(train)\n",
    "print(\"TEST\", end=\"\\n\")\n",
    "test = reduce_memory_use(test)"
   ]
  },
  {
   "cell_type": "code",
   "execution_count": 5,
   "id": "d3796685",
   "metadata": {
    "execution": {
     "iopub.execute_input": "2021-10-10T16:46:41.869501Z",
     "iopub.status.busy": "2021-10-10T16:46:41.868592Z",
     "iopub.status.idle": "2021-10-10T16:46:42.174206Z",
     "shell.execute_reply": "2021-10-10T16:46:42.173531Z",
     "shell.execute_reply.started": "2021-10-10T15:58:14.716690Z"
    },
    "papermill": {
     "duration": 0.320185,
     "end_time": "2021-10-10T16:46:42.174342",
     "exception": false,
     "start_time": "2021-10-10T16:46:41.854157",
     "status": "completed"
    },
    "tags": []
   },
   "outputs": [
    {
     "data": {
      "text/plain": [
       "<AxesSubplot:>"
      ]
     },
     "execution_count": 5,
     "metadata": {},
     "output_type": "execute_result"
    },
    {
     "data": {
      "image/png": "[encoded data removed]",
      "text/plain": [
       "<Figure size 432x288 with 1 Axes>"
      ]
     },
     "metadata": {
      "needs_background": "light"
     },
     "output_type": "display_data"
    }
   ],
   "source": [
    "train['target'].value_counts()\n",
    "train['target'].hist()"
   ]
  },
  {
   "cell_type": "code",
   "execution_count": 6,
   "id": "8bfa5da6",
   "metadata": {
    "execution": {
     "iopub.execute_input": "2021-10-10T16:46:42.221269Z",
     "iopub.status.busy": "2021-10-10T16:46:42.220525Z",
     "iopub.status.idle": "2021-10-10T16:46:42.224056Z",
     "shell.execute_reply": "2021-10-10T16:46:42.223388Z",
     "shell.execute_reply.started": "2021-10-10T15:58:14.990559Z"
    },
    "papermill": {
     "duration": 0.03143,
     "end_time": "2021-10-10T16:46:42.224227",
     "exception": false,
     "start_time": "2021-10-10T16:46:42.192797",
     "status": "completed"
    },
    "tags": []
   },
   "outputs": [],
   "source": [
    "def prepare_data (train: pd.DataFrame, test: pd.DataFrame) -> list:\n",
    "    train = train.drop(['id', 'target'], axis=1)\n",
    "    test = test.drop(['id'], axis=1)\n",
    "    features = train.columns\n",
    "    train['target'] = 1\n",
    "    test['target'] = 0\n",
    "    train_test = pd.concat([train, test], ignore_index=True, axis=0)\n",
    "    target = train_test['target'].values\n",
    "    \n",
    "    return features, train_test, target\n",
    "\n",
    "#features, train_test, target = prepare_data(train, test)"
   ]
  },
  {
   "cell_type": "code",
   "execution_count": 7,
   "id": "646d307d",
   "metadata": {
    "execution": {
     "iopub.execute_input": "2021-10-10T16:46:42.269888Z",
     "iopub.status.busy": "2021-10-10T16:46:42.269142Z",
     "iopub.status.idle": "2021-10-10T16:46:42.272430Z",
     "shell.execute_reply": "2021-10-10T16:46:42.272951Z",
     "shell.execute_reply.started": "2021-10-10T15:58:14.998936Z"
    },
    "papermill": {
     "duration": 0.028526,
     "end_time": "2021-10-10T16:46:42.273123",
     "exception": false,
     "start_time": "2021-10-10T16:46:42.244597",
     "status": "completed"
    },
    "tags": []
   },
   "outputs": [
    {
     "data": {
      "text/plain": [
       "\"\\nimport lightgbm as lgb\\nfrom sklearn.model_selection import KFold\\nfrom sklearn.model_selection import StratifiedKFold\\nparam = dict(num_leaves = 40,\\n            min_data_in_leaf = 30,\\n            objective = 'binary',\\n            max_depth = 4,\\n            learning_rate = 0.006,\\n            min_child_samples = 20,\\n            boosting = 'gbdt',\\n            feature_fraction = 0.9,\\n            bagging_freq = 1,\\n            bagging_fraction = 0.9,\\n            bagging_seed = 27,\\n            metric = 'auc',\\n            verbosity = -1\\n            )\\nskf = StratifiedKFold(n_splits=5, shuffle=True, random_state=1)\\noof = np.zeros(len(train_test))\\n\\nfor fold_, (train_idx, val_idx) in enumerate(skf.split(train_test, target)):\\n    print(f'fold №{fold_}')\\n    train_data = lgb.Dataset(train_test.iloc[train_idx][features], label=target[train_idx])\\n    val_data = lgb.Dataset(train_test.iloc[val_idx][features], label=target[val_idx])\\n    #num_round = 30000\\n    clf = lgb.train(param,\\n                    train_data,\\n                    verbose_eval=1000)\\n    oof[val_idx] = clf.predict(train_test.iloc[val_idx][features])\\n\""
      ]
     },
     "execution_count": 7,
     "metadata": {},
     "output_type": "execute_result"
    }
   ],
   "source": [
    "\"\"\"\n",
    "import lightgbm as lgb\n",
    "from sklearn.model_selection import KFold\n",
    "from sklearn.model_selection import StratifiedKFold\n",
    "param = dict(num_leaves = 40,\n",
    "            min_data_in_leaf = 30,\n",
    "            objective = 'binary',\n",
    "            max_depth = 4,\n",
    "            learning_rate = 0.006,\n",
    "            min_child_samples = 20,\n",
    "            boosting = 'gbdt',\n",
    "            feature_fraction = 0.9,\n",
    "            bagging_freq = 1,\n",
    "            bagging_fraction = 0.9,\n",
    "            bagging_seed = 27,\n",
    "            metric = 'auc',\n",
    "            verbosity = -1\n",
    "            )\n",
    "skf = StratifiedKFold(n_splits=5, shuffle=True, random_state=1)\n",
    "oof = np.zeros(len(train_test))\n",
    "\n",
    "for fold_, (train_idx, val_idx) in enumerate(skf.split(train_test, target)):\n",
    "    print(f'fold №{fold_}')\n",
    "    train_data = lgb.Dataset(train_test.iloc[train_idx][features], label=target[train_idx])\n",
    "    val_data = lgb.Dataset(train_test.iloc[val_idx][features], label=target[val_idx])\n",
    "    #num_round = 30000\n",
    "    clf = lgb.train(param,\n",
    "                    train_data,\n",
    "                    verbose_eval=1000)\n",
    "    oof[val_idx] = clf.predict(train_test.iloc[val_idx][features])\n",
    "\"\"\""
   ]
  },
  {
   "cell_type": "code",
   "execution_count": 8,
   "id": "d36d98e4",
   "metadata": {
    "execution": {
     "iopub.execute_input": "2021-10-10T16:46:42.316631Z",
     "iopub.status.busy": "2021-10-10T16:46:42.315907Z",
     "iopub.status.idle": "2021-10-10T16:46:42.318041Z",
     "shell.execute_reply": "2021-10-10T16:46:42.317360Z",
     "shell.execute_reply.started": "2021-10-10T15:58:15.016942Z"
    },
    "papermill": {
     "duration": 0.025626,
     "end_time": "2021-10-10T16:46:42.318220",
     "exception": false,
     "start_time": "2021-10-10T16:46:42.292594",
     "status": "completed"
    },
    "tags": []
   },
   "outputs": [],
   "source": [
    "#from sklearn.metrics import roc_auc_score\n",
    "#roc_auc_score(target, oof)\n",
    "# score = 0.7831610568040002"
   ]
  },
  {
   "cell_type": "code",
   "execution_count": 9,
   "id": "5eadc4b7",
   "metadata": {
    "execution": {
     "iopub.execute_input": "2021-10-10T16:46:42.361144Z",
     "iopub.status.busy": "2021-10-10T16:46:42.360503Z",
     "iopub.status.idle": "2021-10-10T16:46:42.362393Z",
     "shell.execute_reply": "2021-10-10T16:46:42.362908Z",
     "shell.execute_reply.started": "2021-10-10T15:58:15.028133Z"
    },
    "papermill": {
     "duration": 0.025104,
     "end_time": "2021-10-10T16:46:42.363084",
     "exception": false,
     "start_time": "2021-10-10T16:46:42.337980",
     "status": "completed"
    },
    "tags": []
   },
   "outputs": [],
   "source": [
    "# Значение метрики больше 0.5 => Это говорит о том, что классификтор LGBM хорошо разделяет объекты TRAIN and TEST\n",
    "# Значит выборки различны"
   ]
  },
  {
   "cell_type": "code",
   "execution_count": 10,
   "id": "e0207fe4",
   "metadata": {
    "execution": {
     "iopub.execute_input": "2021-10-10T16:46:42.404718Z",
     "iopub.status.busy": "2021-10-10T16:46:42.404038Z",
     "iopub.status.idle": "2021-10-10T16:46:44.293120Z",
     "shell.execute_reply": "2021-10-10T16:46:44.292548Z",
     "shell.execute_reply.started": "2021-10-10T15:58:15.038119Z"
    },
    "papermill": {
     "duration": 1.911169,
     "end_time": "2021-10-10T16:46:44.293296",
     "exception": false,
     "start_time": "2021-10-10T16:46:42.382127",
     "status": "completed"
    },
    "tags": []
   },
   "outputs": [],
   "source": [
    "def prepare_data_2 (train: pd.DataFrame, test: pd.DataFrame) -> list:\n",
    "    train = train.drop(['id', 'target'], axis=1)\n",
    "    test = test.drop(['id'], axis=1)\n",
    "    features = train.columns\n",
    "    train['target'] = 1\n",
    "    test['target'] = 0\n",
    "    train_test = pd.concat([train, test], ignore_index=True, axis=0)\n",
    "    y = train_test['target'].values\n",
    "    x = train_test.drop(['target'], axis=1)\n",
    "    \n",
    "    \n",
    "    return features, x, y\n",
    "\n",
    "features, x, y = prepare_data_2(train, test)"
   ]
  },
  {
   "cell_type": "code",
   "execution_count": 11,
   "id": "022449a9",
   "metadata": {
    "execution": {
     "iopub.execute_input": "2021-10-10T16:46:44.341594Z",
     "iopub.status.busy": "2021-10-10T16:46:44.340877Z",
     "iopub.status.idle": "2021-10-10T17:14:07.771401Z",
     "shell.execute_reply": "2021-10-10T17:14:07.770725Z",
     "shell.execute_reply.started": "2021-10-10T16:01:08.258147Z"
    },
    "papermill": {
     "duration": 1643.458529,
     "end_time": "2021-10-10T17:14:07.771661",
     "exception": false,
     "start_time": "2021-10-10T16:46:44.313132",
     "status": "completed"
    },
    "tags": []
   },
   "outputs": [
    {
     "name": "stdout",
     "output_type": "stream",
     "text": [
      "fold №0\n",
      "fold №1\n",
      "fold №2\n",
      "fold №3\n",
      "fold №4\n"
     ]
    }
   ],
   "source": [
    "from sklearn.ensemble import RandomForestClassifier\n",
    "from sklearn.model_selection import StratifiedKFold\n",
    "rfc = RandomForestClassifier(n_jobs=-1, max_depth=5, min_samples_leaf=5)\n",
    "skf = StratifiedKFold(n_splits=5, shuffle=True, random_state=1)\n",
    "oof = np.zeros(len(x))\n",
    "for fold_, (train_idx, test_idx) in enumerate(skf.split(x, y)):\n",
    "    print(f'fold №{fold_}')\n",
    "    x_train, x_test = x.iloc[train_idx], x.iloc[test_idx]\n",
    "    y_train, y_test = y[train_idx], y[test_idx]\n",
    "    rfc.fit(x_train, y_train)\n",
    "    probs = rfc.predict_proba(x_test)[:, 1]\n",
    "    oof[test_idx] = probs"
   ]
  },
  {
   "cell_type": "code",
   "execution_count": 12,
   "id": "0ed111ef",
   "metadata": {
    "execution": {
     "iopub.execute_input": "2021-10-10T17:14:07.805093Z",
     "iopub.status.busy": "2021-10-10T17:14:07.804628Z",
     "iopub.status.idle": "2021-10-10T17:14:08.383317Z",
     "shell.execute_reply": "2021-10-10T17:14:08.382684Z",
     "shell.execute_reply.started": "2021-10-10T16:38:57.752786Z"
    },
    "papermill": {
     "duration": 0.597231,
     "end_time": "2021-10-10T17:14:08.383471",
     "exception": false,
     "start_time": "2021-10-10T17:14:07.786240",
     "status": "completed"
    },
    "tags": []
   },
   "outputs": [
    {
     "data": {
      "text/plain": [
       "0.8635974492740001"
      ]
     },
     "execution_count": 12,
     "metadata": {},
     "output_type": "execute_result"
    }
   ],
   "source": [
    "from sklearn.metrics import roc_auc_score\n",
    "score = roc_auc_score(y, oof)\n",
    "# score = 0.8592630012179998\n",
    "score"
   ]
  },
  {
   "cell_type": "code",
   "execution_count": 13,
   "id": "db545560",
   "metadata": {
    "execution": {
     "iopub.execute_input": "2021-10-10T17:14:08.434102Z",
     "iopub.status.busy": "2021-10-10T17:14:08.433135Z",
     "iopub.status.idle": "2021-10-10T17:14:08.446210Z",
     "shell.execute_reply": "2021-10-10T17:14:08.446792Z",
     "shell.execute_reply.started": "2021-10-10T16:40:04.335552Z"
    },
    "papermill": {
     "duration": 0.041379,
     "end_time": "2021-10-10T17:14:08.446997",
     "exception": false,
     "start_time": "2021-10-10T17:14:08.405618",
     "status": "completed"
    },
    "tags": []
   },
   "outputs": [],
   "source": [
    "np.save('for_different', arr=oof)"
   ]
  },
  {
   "cell_type": "code",
   "execution_count": null,
   "id": "fe659378",
   "metadata": {
    "papermill": {
     "duration": 0.021512,
     "end_time": "2021-10-10T17:14:08.490412",
     "exception": false,
     "start_time": "2021-10-10T17:14:08.468900",
     "status": "completed"
    },
    "tags": []
   },
   "outputs": [],
   "source": []
  }
 ],
 "metadata": {
  "kernelspec": {
   "display_name": "Python 3",
   "language": "python",
   "name": "python3"
  },
  "language_info": {
   "codemirror_mode": {
    "name": "ipython",
    "version": 3
   },
   "file_extension": ".py",
   "mimetype": "text/x-python",
   "name": "python",
   "nbconvert_exporter": "python",
   "pygments_lexer": "ipython3",
   "version": "3.7.10"
  },
  "papermill": {
   "default_parameters": {},
   "duration": 1812.458428,
   "end_time": "2021-10-10T17:14:10.614725",
   "environment_variables": {},
   "exception": null,
   "input_path": "__notebook__.ipynb",
   "output_path": "__notebook__.ipynb",
   "parameters": {},
   "start_time": "2021-10-10T16:43:58.156297",
   "version": "2.3.3"
  }
 },
 "nbformat": 4,
 "nbformat_minor": 5
}
